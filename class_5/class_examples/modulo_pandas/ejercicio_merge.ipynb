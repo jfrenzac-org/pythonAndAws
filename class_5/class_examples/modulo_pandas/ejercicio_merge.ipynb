{
 "cells": [
  {
   "cell_type": "markdown",
   "id": "8a1db905",
   "metadata": {},
   "source": [
    "### 🎯 Objetivos del ejercicio:\n",
    "\n",
    "1. Leer ambos archivos CSV en DataFrames separados.\n",
    "2. Mostrar las primeras 3 filas de cada DataFrame.\n",
    "3. Unir los DataFrames usando la columna `ID` para enriquecer los datos de ventas.\n",
    "4. Calcular el ingreso por venta (`Cantidad × Precio Unitario`) y agregarlo como una nueva columna llamada `Ingreso`.\n",
    "5. Obtener el ingreso total de la tienda.\n",
    "6. Mostrar la cantidad de ventas por país.\n",
    "7. Determinar qué **grupo de edad** (por rangos: `<25`, `25–34`, `35+`) generó más ingresos.\n",
    "8. Encontrar el producto más vendido **por género del cliente**.\n",
    "9. Agrupar las ventas por mes y país, mostrando el total de ingresos por grupo.\n",
    "10. Guardar el DataFrame resultante con la información completa en un archivo llamado `ventas_enriquecidas.csv`."
   ]
  },
  {
   "cell_type": "code",
   "execution_count": 19,
   "id": "0e700d5a",
   "metadata": {},
   "outputs": [],
   "source": [
    "import pandas as pd\n",
    "\n",
    "ventas = pd.read_csv(\"datos/ventas.csv\")\n",
    "clientes = pd.read_csv(\"datos/clientes.csv\")\n"
   ]
  },
  {
   "cell_type": "code",
   "execution_count": 20,
   "id": "2b1212f0",
   "metadata": {},
   "outputs": [
    {
     "name": "stdout",
     "output_type": "stream",
     "text": [
      "Ventas - primeras 3 filas:\n",
      "   ID       Fecha  Producto Categoría  Cantidad  Precio Unitario\n",
      "0   0  2025-01-06   Bufanda      ropa         1            32.62\n",
      "1   1  2025-05-12   Bufanda      ropa         2            93.76\n",
      "2   2  2025-04-28  Camiseta   calzado         1            29.70\n"
     ]
    }
   ],
   "source": [
    "# Mostrar las primeras 3 filas de cada DF\n",
    "\n",
    "print(\"Ventas - primeras 3 filas:\")\n",
    "print(ventas.head(3))"
   ]
  },
  {
   "cell_type": "code",
   "execution_count": 21,
   "id": "c2341763",
   "metadata": {},
   "outputs": [
    {
     "name": "stdout",
     "output_type": "stream",
     "text": [
      "Clientes - primeras filas:\n",
      "   ID   Nombre  Edad     Genero                       Pais\n",
      "0   0   Alexis    57   Femenino                      Yemen\n",
      "1   1    Emily    36  Masculino                    Estonia\n",
      "2   2  Jessica    59   Femenino  Saint Pierre and Miquelon\n"
     ]
    }
   ],
   "source": [
    "print(\"Clientes - primeras filas:\")\n",
    "print(clientes.head(3))"
   ]
  },
  {
   "cell_type": "code",
   "execution_count": 22,
   "id": "b57e7568",
   "metadata": {},
   "outputs": [
    {
     "name": "stdout",
     "output_type": "stream",
     "text": [
      "      ID       Fecha   Producto   Categoría  Cantidad  Precio Unitario  \\\n",
      "0      0  2025-01-06    Bufanda        ropa         1            32.62   \n",
      "1      1  2025-05-12    Bufanda        ropa         2            93.76   \n",
      "2      2  2025-04-28   Camiseta     calzado         1            29.70   \n",
      "3      3  2025-11-26   Chaqueta        ropa         5            25.81   \n",
      "4      4  2025-12-22  Sandalias     calzado         3            48.31   \n",
      "..   ...         ...        ...         ...       ...              ...   \n",
      "995  995  2025-03-31   Pantalón     calzado         3            10.65   \n",
      "996  996  2025-11-30   Camiseta     calzado         1            14.04   \n",
      "997  997  2025-05-07    Bufanda        ropa         2            95.70   \n",
      "998  998  2025-02-15   Sombrero  accesorios         5            91.40   \n",
      "999  999  2025-02-15  Sandalias     calzado         5            64.20   \n",
      "\n",
      "       Nombre  Edad     Genero                                          Pais  \n",
      "0      Alexis    57   Femenino                                         Yemen  \n",
      "1       Emily    36  Masculino                                       Estonia  \n",
      "2     Jessica    59   Femenino                     Saint Pierre and Miquelon  \n",
      "3        Jake    38   Femenino  South Georgia and the South Sandwich Islands  \n",
      "4      Angela    52  Masculino                              Saint Barthelemy  \n",
      "..        ...   ...        ...                                           ...  \n",
      "995    Johnny    54  Masculino                                  Saint Helena  \n",
      "996  Kimberly    38   Femenino                                         Ghana  \n",
      "997    Taylor    46   Femenino                                       Germany  \n",
      "998      John    27   Femenino                                 Cote d'Ivoire  \n",
      "999  Stefanie    40  Masculino                                  Cook Islands  \n",
      "\n",
      "[1000 rows x 10 columns]\n"
     ]
    }
   ],
   "source": [
    "# Unir los dos dataframes\n",
    "\n",
    "combinado = pd.merge(ventas, clientes, on=\"ID\")\n",
    "\n",
    "print(combinado)"
   ]
  },
  {
   "cell_type": "code",
   "execution_count": 24,
   "id": "386f1b04",
   "metadata": {},
   "outputs": [
    {
     "data": {
      "text/html": [
       "<div>\n",
       "<style scoped>\n",
       "    .dataframe tbody tr th:only-of-type {\n",
       "        vertical-align: middle;\n",
       "    }\n",
       "\n",
       "    .dataframe tbody tr th {\n",
       "        vertical-align: top;\n",
       "    }\n",
       "\n",
       "    .dataframe thead th {\n",
       "        text-align: right;\n",
       "    }\n",
       "</style>\n",
       "<table border=\"1\" class=\"dataframe\">\n",
       "  <thead>\n",
       "    <tr style=\"text-align: right;\">\n",
       "      <th></th>\n",
       "      <th>ID</th>\n",
       "      <th>Fecha</th>\n",
       "      <th>Producto</th>\n",
       "      <th>Categoría</th>\n",
       "      <th>Cantidad</th>\n",
       "      <th>Precio Unitario</th>\n",
       "      <th>Nombre</th>\n",
       "      <th>Edad</th>\n",
       "      <th>Genero</th>\n",
       "      <th>Pais</th>\n",
       "      <th>Ingreso</th>\n",
       "    </tr>\n",
       "  </thead>\n",
       "  <tbody>\n",
       "    <tr>\n",
       "      <th>0</th>\n",
       "      <td>0</td>\n",
       "      <td>2025-01-06</td>\n",
       "      <td>Bufanda</td>\n",
       "      <td>ropa</td>\n",
       "      <td>1</td>\n",
       "      <td>32.62</td>\n",
       "      <td>Alexis</td>\n",
       "      <td>57</td>\n",
       "      <td>Femenino</td>\n",
       "      <td>Yemen</td>\n",
       "      <td>32.62</td>\n",
       "    </tr>\n",
       "    <tr>\n",
       "      <th>1</th>\n",
       "      <td>1</td>\n",
       "      <td>2025-05-12</td>\n",
       "      <td>Bufanda</td>\n",
       "      <td>ropa</td>\n",
       "      <td>2</td>\n",
       "      <td>93.76</td>\n",
       "      <td>Emily</td>\n",
       "      <td>36</td>\n",
       "      <td>Masculino</td>\n",
       "      <td>Estonia</td>\n",
       "      <td>187.52</td>\n",
       "    </tr>\n",
       "    <tr>\n",
       "      <th>2</th>\n",
       "      <td>2</td>\n",
       "      <td>2025-04-28</td>\n",
       "      <td>Camiseta</td>\n",
       "      <td>calzado</td>\n",
       "      <td>1</td>\n",
       "      <td>29.70</td>\n",
       "      <td>Jessica</td>\n",
       "      <td>59</td>\n",
       "      <td>Femenino</td>\n",
       "      <td>Saint Pierre and Miquelon</td>\n",
       "      <td>29.70</td>\n",
       "    </tr>\n",
       "    <tr>\n",
       "      <th>3</th>\n",
       "      <td>3</td>\n",
       "      <td>2025-11-26</td>\n",
       "      <td>Chaqueta</td>\n",
       "      <td>ropa</td>\n",
       "      <td>5</td>\n",
       "      <td>25.81</td>\n",
       "      <td>Jake</td>\n",
       "      <td>38</td>\n",
       "      <td>Femenino</td>\n",
       "      <td>South Georgia and the South Sandwich Islands</td>\n",
       "      <td>129.05</td>\n",
       "    </tr>\n",
       "    <tr>\n",
       "      <th>4</th>\n",
       "      <td>4</td>\n",
       "      <td>2025-12-22</td>\n",
       "      <td>Sandalias</td>\n",
       "      <td>calzado</td>\n",
       "      <td>3</td>\n",
       "      <td>48.31</td>\n",
       "      <td>Angela</td>\n",
       "      <td>52</td>\n",
       "      <td>Masculino</td>\n",
       "      <td>Saint Barthelemy</td>\n",
       "      <td>144.93</td>\n",
       "    </tr>\n",
       "  </tbody>\n",
       "</table>\n",
       "</div>"
      ],
      "text/plain": [
       "   ID       Fecha   Producto Categoría  Cantidad  Precio Unitario   Nombre  \\\n",
       "0   0  2025-01-06    Bufanda      ropa         1            32.62   Alexis   \n",
       "1   1  2025-05-12    Bufanda      ropa         2            93.76    Emily   \n",
       "2   2  2025-04-28   Camiseta   calzado         1            29.70  Jessica   \n",
       "3   3  2025-11-26   Chaqueta      ropa         5            25.81     Jake   \n",
       "4   4  2025-12-22  Sandalias   calzado         3            48.31   Angela   \n",
       "\n",
       "   Edad     Genero                                          Pais  Ingreso  \n",
       "0    57   Femenino                                         Yemen    32.62  \n",
       "1    36  Masculino                                       Estonia   187.52  \n",
       "2    59   Femenino                     Saint Pierre and Miquelon    29.70  \n",
       "3    38   Femenino  South Georgia and the South Sandwich Islands   129.05  \n",
       "4    52  Masculino                              Saint Barthelemy   144.93  "
      ]
     },
     "execution_count": 24,
     "metadata": {},
     "output_type": "execute_result"
    }
   ],
   "source": [
    "# Crear columna Ingresos = Cantidad * Precio\n",
    "\n",
    "combinado[\"Ingreso\"] = combinado[\"Cantidad\"] * combinado[\"Precio Unitario\"]\n",
    "\n",
    "combinado.head()"
   ]
  },
  {
   "cell_type": "code",
   "execution_count": 28,
   "id": "f9ccb0a8",
   "metadata": {},
   "outputs": [
    {
     "name": "stdout",
     "output_type": "stream",
     "text": [
      "Ingreso total de la tienda: USD 165345.50\n"
     ]
    }
   ],
   "source": [
    "# Ingreso total de la tienda\n",
    "\n",
    "ingreso_total = combinado[\"Ingreso\"].sum()\n",
    "\n",
    "print(f\"Ingreso total de la tienda: USD {ingreso_total:.2f}\")"
   ]
  },
  {
   "cell_type": "code",
   "execution_count": 30,
   "id": "94965526",
   "metadata": {},
   "outputs": [
    {
     "name": "stdout",
     "output_type": "stream",
     "text": [
      "Cantidad de ventas por pais:\n",
      "                  Pais  Cantidad de Ventas\n",
      "0          Afghanistan                   7\n",
      "1              Albania                  12\n",
      "2              Algeria                  18\n",
      "3       American Samoa                  10\n",
      "4              Andorra                  12\n",
      "..                 ...                 ...\n",
      "234  Wallis and Futuna                  15\n",
      "235     Western Sahara                   8\n",
      "236              Yemen                  26\n",
      "237             Zambia                   6\n",
      "238           Zimbabwe                  13\n",
      "\n",
      "[239 rows x 2 columns]\n"
     ]
    }
   ],
   "source": [
    "# Cantidad de ventas por país\n",
    "\n",
    "ventas_por_pais = combinado.groupby(\"Pais\")[\"Cantidad\"].sum().reset_index(name=\"Cantidad de Ventas\")\n",
    "print(\"Cantidad de ventas por pais:\")\n",
    "print(ventas_por_pais)"
   ]
  },
  {
   "cell_type": "code",
   "execution_count": 34,
   "id": "c5140e76",
   "metadata": {},
   "outputs": [
    {
     "data": {
      "text/html": [
       "<div>\n",
       "<style scoped>\n",
       "    .dataframe tbody tr th:only-of-type {\n",
       "        vertical-align: middle;\n",
       "    }\n",
       "\n",
       "    .dataframe tbody tr th {\n",
       "        vertical-align: top;\n",
       "    }\n",
       "\n",
       "    .dataframe thead th {\n",
       "        text-align: right;\n",
       "    }\n",
       "</style>\n",
       "<table border=\"1\" class=\"dataframe\">\n",
       "  <thead>\n",
       "    <tr style=\"text-align: right;\">\n",
       "      <th></th>\n",
       "      <th>ID</th>\n",
       "      <th>Fecha</th>\n",
       "      <th>Producto</th>\n",
       "      <th>Categoría</th>\n",
       "      <th>Cantidad</th>\n",
       "      <th>Precio Unitario</th>\n",
       "      <th>Nombre</th>\n",
       "      <th>Edad</th>\n",
       "      <th>Genero</th>\n",
       "      <th>Pais</th>\n",
       "      <th>Ingreso</th>\n",
       "      <th>Grupo Edad</th>\n",
       "    </tr>\n",
       "  </thead>\n",
       "  <tbody>\n",
       "    <tr>\n",
       "      <th>0</th>\n",
       "      <td>0</td>\n",
       "      <td>2025-01-06</td>\n",
       "      <td>Bufanda</td>\n",
       "      <td>ropa</td>\n",
       "      <td>1</td>\n",
       "      <td>32.62</td>\n",
       "      <td>Alexis</td>\n",
       "      <td>57</td>\n",
       "      <td>Femenino</td>\n",
       "      <td>Yemen</td>\n",
       "      <td>32.62</td>\n",
       "      <td>35+</td>\n",
       "    </tr>\n",
       "    <tr>\n",
       "      <th>1</th>\n",
       "      <td>1</td>\n",
       "      <td>2025-05-12</td>\n",
       "      <td>Bufanda</td>\n",
       "      <td>ropa</td>\n",
       "      <td>2</td>\n",
       "      <td>93.76</td>\n",
       "      <td>Emily</td>\n",
       "      <td>36</td>\n",
       "      <td>Masculino</td>\n",
       "      <td>Estonia</td>\n",
       "      <td>187.52</td>\n",
       "      <td>35+</td>\n",
       "    </tr>\n",
       "    <tr>\n",
       "      <th>2</th>\n",
       "      <td>2</td>\n",
       "      <td>2025-04-28</td>\n",
       "      <td>Camiseta</td>\n",
       "      <td>calzado</td>\n",
       "      <td>1</td>\n",
       "      <td>29.70</td>\n",
       "      <td>Jessica</td>\n",
       "      <td>59</td>\n",
       "      <td>Femenino</td>\n",
       "      <td>Saint Pierre and Miquelon</td>\n",
       "      <td>29.70</td>\n",
       "      <td>35+</td>\n",
       "    </tr>\n",
       "    <tr>\n",
       "      <th>3</th>\n",
       "      <td>3</td>\n",
       "      <td>2025-11-26</td>\n",
       "      <td>Chaqueta</td>\n",
       "      <td>ropa</td>\n",
       "      <td>5</td>\n",
       "      <td>25.81</td>\n",
       "      <td>Jake</td>\n",
       "      <td>38</td>\n",
       "      <td>Femenino</td>\n",
       "      <td>South Georgia and the South Sandwich Islands</td>\n",
       "      <td>129.05</td>\n",
       "      <td>35+</td>\n",
       "    </tr>\n",
       "    <tr>\n",
       "      <th>4</th>\n",
       "      <td>4</td>\n",
       "      <td>2025-12-22</td>\n",
       "      <td>Sandalias</td>\n",
       "      <td>calzado</td>\n",
       "      <td>3</td>\n",
       "      <td>48.31</td>\n",
       "      <td>Angela</td>\n",
       "      <td>52</td>\n",
       "      <td>Masculino</td>\n",
       "      <td>Saint Barthelemy</td>\n",
       "      <td>144.93</td>\n",
       "      <td>35+</td>\n",
       "    </tr>\n",
       "  </tbody>\n",
       "</table>\n",
       "</div>"
      ],
      "text/plain": [
       "   ID       Fecha   Producto Categoría  Cantidad  Precio Unitario   Nombre  \\\n",
       "0   0  2025-01-06    Bufanda      ropa         1            32.62   Alexis   \n",
       "1   1  2025-05-12    Bufanda      ropa         2            93.76    Emily   \n",
       "2   2  2025-04-28   Camiseta   calzado         1            29.70  Jessica   \n",
       "3   3  2025-11-26   Chaqueta      ropa         5            25.81     Jake   \n",
       "4   4  2025-12-22  Sandalias   calzado         3            48.31   Angela   \n",
       "\n",
       "   Edad     Genero                                          Pais  Ingreso  \\\n",
       "0    57   Femenino                                         Yemen    32.62   \n",
       "1    36  Masculino                                       Estonia   187.52   \n",
       "2    59   Femenino                     Saint Pierre and Miquelon    29.70   \n",
       "3    38   Femenino  South Georgia and the South Sandwich Islands   129.05   \n",
       "4    52  Masculino                              Saint Barthelemy   144.93   \n",
       "\n",
       "  Grupo Edad  \n",
       "0        35+  \n",
       "1        35+  \n",
       "2        35+  \n",
       "3        35+  \n",
       "4        35+  "
      ]
     },
     "execution_count": 34,
     "metadata": {},
     "output_type": "execute_result"
    }
   ],
   "source": [
    "# Clasificar edades en grupos y calcular ingresos por grupo\n",
    "\n",
    "bins = [0,24,35, float('inf')]\n",
    "labels = ['<25', '25-34', '35+']\n",
    "\n",
    "combinado[\"Grupo Edad\"] = pd.cut(combinado[\"Edad\"], bins=bins, labels=labels)\n",
    "\n",
    "combinado.head()"
   ]
  },
  {
   "cell_type": "code",
   "execution_count": 35,
   "id": "09a1142a",
   "metadata": {},
   "outputs": [
    {
     "name": "stdout",
     "output_type": "stream",
     "text": [
      "Ingresos por grupo de edad:\n",
      "  Grupo Edad    Ingreso\n",
      "0        <25   21690.42\n",
      "1      25-34   34335.58\n",
      "2        35+  109319.50\n"
     ]
    },
    {
     "name": "stderr",
     "output_type": "stream",
     "text": [
      "/tmp/ipykernel_3089/2753940562.py:1: FutureWarning: The default of observed=False is deprecated and will be changed to True in a future version of pandas. Pass observed=False to retain current behavior or observed=True to adopt the future default and silence this warning.\n",
      "  ingreso_por_grupo_edad = combinado.groupby(\"Grupo Edad\")[\"Ingreso\"].sum().reset_index()\n"
     ]
    }
   ],
   "source": [
    "ingreso_por_grupo_edad = combinado.groupby(\"Grupo Edad\")[\"Ingreso\"].sum().reset_index()\n",
    "\n",
    "print(\"Ingresos por grupo de edad:\")\n",
    "print(ingreso_por_grupo_edad)"
   ]
  },
  {
   "cell_type": "code",
   "execution_count": 38,
   "id": "e2473cc1",
   "metadata": {},
   "outputs": [
    {
     "name": "stdout",
     "output_type": "stream",
     "text": [
      "Producto más vendido por género\n",
      "       Genero   Producto  Cantidad\n",
      "5    Femenino  Sandalias       212\n",
      "13  Masculino  Sandalias       245\n"
     ]
    }
   ],
   "source": [
    "# Producto más vendido por género\n",
    "\n",
    "ventas_por_producto_genero = combinado.groupby([\"Genero\", \"Producto\"])[\"Cantidad\"].sum().reset_index()\n",
    "\n",
    "producto_mas_vendido = ventas_por_producto_genero.sort_values([\"Genero\", \"Cantidad\"], ascending=[True,False]).drop_duplicates('Genero')\n",
    "\n",
    "print(\"Producto más vendido por género\")\n",
    "print(producto_mas_vendido)"
   ]
  },
  {
   "cell_type": "code",
   "execution_count": 40,
   "id": "4feeb86b",
   "metadata": {},
   "outputs": [
    {
     "name": "stdout",
     "output_type": "stream",
     "text": [
      "Ingresos mensuales por país\n",
      "         Mes                                  Pais  Ingreso\n",
      "0    2025-01                           Afghanistan   233.46\n",
      "1    2025-01                               Albania    13.33\n",
      "2    2025-01                               Austria   214.62\n",
      "3    2025-01                               Belarus   251.23\n",
      "4    2025-01                               Belgium   287.40\n",
      "..       ...                                   ...      ...\n",
      "848  2025-12                                Tuvalu    36.99\n",
      "849  2025-12  United States Minor Outlying Islands    26.48\n",
      "850  2025-12                            Uzbekistan   321.65\n",
      "851  2025-12                               Vietnam    75.85\n",
      "852  2025-12                                Zambia    64.10\n",
      "\n",
      "[853 rows x 3 columns]\n"
     ]
    }
   ],
   "source": [
    "# Ingresos por mes y país\n",
    "\n",
    "combinado[\"Fecha\"] = pd.to_datetime(combinado[\"Fecha\"])\n",
    "combinado[\"Mes\"] = combinado[\"Fecha\"].dt.to_period('M')\n",
    "\n",
    "ingreso_mensuales_por_pais = combinado.groupby([\"Mes\", \"Pais\"])[\"Ingreso\"].sum().reset_index()\n",
    "\n",
    "print(\"Ingresos mensuales por país\")\n",
    "print(ingreso_mensuales_por_pais)"
   ]
  },
  {
   "cell_type": "code",
   "execution_count": 41,
   "id": "77fba875",
   "metadata": {},
   "outputs": [],
   "source": [
    "# Guardar el df combinado como un nuevo csv\n",
    "\n",
    "combinado.to_csv('datos/ventas_combinado.csv', index=False)"
   ]
  }
 ],
 "metadata": {
  "kernelspec": {
   "display_name": ".venv",
   "language": "python",
   "name": "python3"
  },
  "language_info": {
   "codemirror_mode": {
    "name": "ipython",
    "version": 3
   },
   "file_extension": ".py",
   "mimetype": "text/x-python",
   "name": "python",
   "nbconvert_exporter": "python",
   "pygments_lexer": "ipython3",
   "version": "3.12.3"
  }
 },
 "nbformat": 4,
 "nbformat_minor": 5
}
