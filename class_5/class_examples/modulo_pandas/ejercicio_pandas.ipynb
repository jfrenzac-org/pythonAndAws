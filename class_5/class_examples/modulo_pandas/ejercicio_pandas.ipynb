{
 "cells": [
  {
   "cell_type": "markdown",
   "id": "1f219506",
   "metadata": {},
   "source": [
    "#### 🎯 Objetivos del ejercicio:\n",
    "\n",
    "1. **Leer** el archivo CSV en un DataFrame.\n",
    "2. Mostrar las **primeras 5 filas**.\n",
    "3. Obtener el número total de **ventas realizadas** (filas del archivo).\n",
    "4. Calcular el ingreso total por cada venta (Cantidad × Precio Unitario) y agregarlo como una nueva columna llamada `Ingreso`.\n",
    "5. Obtener el **ingreso total de la tienda**.\n",
    "6. Mostrar las **ventas totales por categoría**.\n",
    "7. Encontrar el **producto más vendido** (en términos de cantidad total).\n",
    "8. Mostrar las **ventas mensuales totales** (agrupando por mes).\n",
    "9. Guardar el DataFrame con la nueva columna en un archivo llamado `ventas_con_ingresos.csv`."
   ]
  },
  {
   "cell_type": "code",
   "execution_count": 1,
   "id": "e205e9c5",
   "metadata": {},
   "outputs": [],
   "source": [
    "import pandas as pd"
   ]
  },
  {
   "cell_type": "code",
   "execution_count": 7,
   "id": "c743fe31",
   "metadata": {},
   "outputs": [],
   "source": [
    "# Punto 1\n",
    "\n",
    "ventas = pd.read_csv(\"datos/ventas.csv\")"
   ]
  },
  {
   "cell_type": "code",
   "execution_count": 11,
   "id": "de4b29e2",
   "metadata": {},
   "outputs": [
    {
     "data": {
      "text/html": [
       "<div>\n",
       "<style scoped>\n",
       "    .dataframe tbody tr th:only-of-type {\n",
       "        vertical-align: middle;\n",
       "    }\n",
       "\n",
       "    .dataframe tbody tr th {\n",
       "        vertical-align: top;\n",
       "    }\n",
       "\n",
       "    .dataframe thead th {\n",
       "        text-align: right;\n",
       "    }\n",
       "</style>\n",
       "<table border=\"1\" class=\"dataframe\">\n",
       "  <thead>\n",
       "    <tr style=\"text-align: right;\">\n",
       "      <th></th>\n",
       "      <th>Fecha</th>\n",
       "      <th>Producto</th>\n",
       "      <th>Categoría</th>\n",
       "      <th>Cantidad</th>\n",
       "      <th>Precio Unitario</th>\n",
       "    </tr>\n",
       "  </thead>\n",
       "  <tbody>\n",
       "    <tr>\n",
       "      <th>0</th>\n",
       "      <td>2025-10-25</td>\n",
       "      <td>Bolso</td>\n",
       "      <td>ropa</td>\n",
       "      <td>4</td>\n",
       "      <td>57.78</td>\n",
       "    </tr>\n",
       "    <tr>\n",
       "      <th>1</th>\n",
       "      <td>2025-03-24</td>\n",
       "      <td>Sombrero</td>\n",
       "      <td>calzado</td>\n",
       "      <td>4</td>\n",
       "      <td>84.81</td>\n",
       "    </tr>\n",
       "    <tr>\n",
       "      <th>2</th>\n",
       "      <td>2025-05-25</td>\n",
       "      <td>Zapatos</td>\n",
       "      <td>ropa</td>\n",
       "      <td>5</td>\n",
       "      <td>48.94</td>\n",
       "    </tr>\n",
       "    <tr>\n",
       "      <th>3</th>\n",
       "      <td>2025-01-20</td>\n",
       "      <td>Bufanda</td>\n",
       "      <td>accesorios</td>\n",
       "      <td>4</td>\n",
       "      <td>58.73</td>\n",
       "    </tr>\n",
       "    <tr>\n",
       "      <th>4</th>\n",
       "      <td>2025-04-17</td>\n",
       "      <td>Pantalón</td>\n",
       "      <td>ropa</td>\n",
       "      <td>1</td>\n",
       "      <td>65.16</td>\n",
       "    </tr>\n",
       "  </tbody>\n",
       "</table>\n",
       "</div>"
      ],
      "text/plain": [
       "        Fecha  Producto   Categoría  Cantidad  Precio Unitario\n",
       "0  2025-10-25     Bolso        ropa         4            57.78\n",
       "1  2025-03-24  Sombrero     calzado         4            84.81\n",
       "2  2025-05-25   Zapatos        ropa         5            48.94\n",
       "3  2025-01-20   Bufanda  accesorios         4            58.73\n",
       "4  2025-04-17  Pantalón        ropa         1            65.16"
      ]
     },
     "execution_count": 11,
     "metadata": {},
     "output_type": "execute_result"
    }
   ],
   "source": [
    "# Punto 2\n",
    "\n",
    "ventas.head()"
   ]
  },
  {
   "cell_type": "code",
   "execution_count": 15,
   "id": "69be2dbe",
   "metadata": {},
   "outputs": [
    {
     "name": "stdout",
     "output_type": "stream",
     "text": [
      "La cantidad total vendidad de productos fue: 3086 unidades\n"
     ]
    }
   ],
   "source": [
    "# Punto 3\n",
    "\n",
    "cantidad_total_vendida = sum(ventas.Cantidad)\n",
    "\n",
    "print(f\"La cantidad total vendidad de productos fue: {cantidad_total_vendida} unidades\")"
   ]
  },
  {
   "cell_type": "code",
   "execution_count": 16,
   "id": "88da0ecf",
   "metadata": {},
   "outputs": [
    {
     "data": {
      "text/html": [
       "<div>\n",
       "<style scoped>\n",
       "    .dataframe tbody tr th:only-of-type {\n",
       "        vertical-align: middle;\n",
       "    }\n",
       "\n",
       "    .dataframe tbody tr th {\n",
       "        vertical-align: top;\n",
       "    }\n",
       "\n",
       "    .dataframe thead th {\n",
       "        text-align: right;\n",
       "    }\n",
       "</style>\n",
       "<table border=\"1\" class=\"dataframe\">\n",
       "  <thead>\n",
       "    <tr style=\"text-align: right;\">\n",
       "      <th></th>\n",
       "      <th>Fecha</th>\n",
       "      <th>Producto</th>\n",
       "      <th>Categoría</th>\n",
       "      <th>Cantidad</th>\n",
       "      <th>Precio Unitario</th>\n",
       "      <th>Ingreso</th>\n",
       "    </tr>\n",
       "  </thead>\n",
       "  <tbody>\n",
       "    <tr>\n",
       "      <th>0</th>\n",
       "      <td>2025-10-25</td>\n",
       "      <td>Bolso</td>\n",
       "      <td>ropa</td>\n",
       "      <td>4</td>\n",
       "      <td>57.78</td>\n",
       "      <td>231.12</td>\n",
       "    </tr>\n",
       "    <tr>\n",
       "      <th>1</th>\n",
       "      <td>2025-03-24</td>\n",
       "      <td>Sombrero</td>\n",
       "      <td>calzado</td>\n",
       "      <td>4</td>\n",
       "      <td>84.81</td>\n",
       "      <td>339.24</td>\n",
       "    </tr>\n",
       "    <tr>\n",
       "      <th>2</th>\n",
       "      <td>2025-05-25</td>\n",
       "      <td>Zapatos</td>\n",
       "      <td>ropa</td>\n",
       "      <td>5</td>\n",
       "      <td>48.94</td>\n",
       "      <td>244.70</td>\n",
       "    </tr>\n",
       "    <tr>\n",
       "      <th>3</th>\n",
       "      <td>2025-01-20</td>\n",
       "      <td>Bufanda</td>\n",
       "      <td>accesorios</td>\n",
       "      <td>4</td>\n",
       "      <td>58.73</td>\n",
       "      <td>234.92</td>\n",
       "    </tr>\n",
       "    <tr>\n",
       "      <th>4</th>\n",
       "      <td>2025-04-17</td>\n",
       "      <td>Pantalón</td>\n",
       "      <td>ropa</td>\n",
       "      <td>1</td>\n",
       "      <td>65.16</td>\n",
       "      <td>65.16</td>\n",
       "    </tr>\n",
       "    <tr>\n",
       "      <th>...</th>\n",
       "      <td>...</td>\n",
       "      <td>...</td>\n",
       "      <td>...</td>\n",
       "      <td>...</td>\n",
       "      <td>...</td>\n",
       "      <td>...</td>\n",
       "    </tr>\n",
       "    <tr>\n",
       "      <th>995</th>\n",
       "      <td>2025-10-21</td>\n",
       "      <td>Sandalias</td>\n",
       "      <td>calzado</td>\n",
       "      <td>3</td>\n",
       "      <td>52.41</td>\n",
       "      <td>157.23</td>\n",
       "    </tr>\n",
       "    <tr>\n",
       "      <th>996</th>\n",
       "      <td>2025-11-07</td>\n",
       "      <td>Camiseta</td>\n",
       "      <td>calzado</td>\n",
       "      <td>3</td>\n",
       "      <td>70.47</td>\n",
       "      <td>211.41</td>\n",
       "    </tr>\n",
       "    <tr>\n",
       "      <th>997</th>\n",
       "      <td>2025-10-14</td>\n",
       "      <td>Sombrero</td>\n",
       "      <td>ropa</td>\n",
       "      <td>3</td>\n",
       "      <td>48.47</td>\n",
       "      <td>145.41</td>\n",
       "    </tr>\n",
       "    <tr>\n",
       "      <th>998</th>\n",
       "      <td>2025-04-16</td>\n",
       "      <td>Sombrero</td>\n",
       "      <td>ropa</td>\n",
       "      <td>4</td>\n",
       "      <td>87.07</td>\n",
       "      <td>348.28</td>\n",
       "    </tr>\n",
       "    <tr>\n",
       "      <th>999</th>\n",
       "      <td>2025-12-06</td>\n",
       "      <td>Sombrero</td>\n",
       "      <td>calzado</td>\n",
       "      <td>2</td>\n",
       "      <td>79.15</td>\n",
       "      <td>158.30</td>\n",
       "    </tr>\n",
       "  </tbody>\n",
       "</table>\n",
       "<p>1000 rows × 6 columns</p>\n",
       "</div>"
      ],
      "text/plain": [
       "          Fecha   Producto   Categoría  Cantidad  Precio Unitario  Ingreso\n",
       "0    2025-10-25      Bolso        ropa         4            57.78   231.12\n",
       "1    2025-03-24   Sombrero     calzado         4            84.81   339.24\n",
       "2    2025-05-25    Zapatos        ropa         5            48.94   244.70\n",
       "3    2025-01-20    Bufanda  accesorios         4            58.73   234.92\n",
       "4    2025-04-17   Pantalón        ropa         1            65.16    65.16\n",
       "..          ...        ...         ...       ...              ...      ...\n",
       "995  2025-10-21  Sandalias     calzado         3            52.41   157.23\n",
       "996  2025-11-07   Camiseta     calzado         3            70.47   211.41\n",
       "997  2025-10-14   Sombrero        ropa         3            48.47   145.41\n",
       "998  2025-04-16   Sombrero        ropa         4            87.07   348.28\n",
       "999  2025-12-06   Sombrero     calzado         2            79.15   158.30\n",
       "\n",
       "[1000 rows x 6 columns]"
      ]
     },
     "execution_count": 16,
     "metadata": {},
     "output_type": "execute_result"
    }
   ],
   "source": [
    "# Punto 4\n",
    "\n",
    "# Para obtener las ventas totales, necesitamos:\n",
    "# Multiplicar: suma(Cantidad X PrecioUnitario)\n",
    "\n",
    "ventas[\"Ingreso\"] = ventas[\"Cantidad\"] * ventas[\"Precio Unitario\"]\n",
    "\n",
    "ventas"
   ]
  },
  {
   "cell_type": "code",
   "execution_count": 17,
   "id": "03b02510",
   "metadata": {},
   "outputs": [
    {
     "name": "stdout",
     "output_type": "stream",
     "text": [
      "El Ingreso total de la tienda fueron USD 166860.04\n"
     ]
    }
   ],
   "source": [
    "# Punto 5\n",
    "\n",
    "ingresto_total = sum(ventas.Ingreso)\n",
    "\n",
    "print(f\"El Ingreso total de la tienda fueron USD {ingresto_total}\")"
   ]
  },
  {
   "cell_type": "code",
   "execution_count": 20,
   "id": "07dfdb2e",
   "metadata": {},
   "outputs": [
    {
     "data": {
      "text/plain": [
       "Categoría\n",
       "accesorios    58415.97\n",
       "calzado       38742.60\n",
       "ropa          69701.47\n",
       "Name: Ingreso, dtype: float64"
      ]
     },
     "execution_count": 20,
     "metadata": {},
     "output_type": "execute_result"
    }
   ],
   "source": [
    "# Punto 6\n",
    "\n",
    "ventas.groupby(\"Categoría\")[\"Ingreso\"].sum()"
   ]
  },
  {
   "cell_type": "code",
   "execution_count": null,
   "id": "e1777322",
   "metadata": {},
   "outputs": [
    {
     "name": "stdout",
     "output_type": "stream",
     "text": [
      "El producto más vendido fue:Producto\n",
      "Bolso    453\n",
      "Name: Cantidad, dtype: int64\n"
     ]
    }
   ],
   "source": [
    "# Punto 7\n",
    "\n",
    "producto_mas_vendido = ventas.groupby(\"Producto\")[\"Cantidad\"].sum().sort_values(ascending=False)\n",
    "\n",
    "print(f\"El producto más vendido fue:{producto_mas_vendido[0:1]}\")"
   ]
  },
  {
   "cell_type": "code",
   "execution_count": 28,
   "id": "836604ae",
   "metadata": {},
   "outputs": [
    {
     "data": {
      "text/html": [
       "<div>\n",
       "<style scoped>\n",
       "    .dataframe tbody tr th:only-of-type {\n",
       "        vertical-align: middle;\n",
       "    }\n",
       "\n",
       "    .dataframe tbody tr th {\n",
       "        vertical-align: top;\n",
       "    }\n",
       "\n",
       "    .dataframe thead th {\n",
       "        text-align: right;\n",
       "    }\n",
       "</style>\n",
       "<table border=\"1\" class=\"dataframe\">\n",
       "  <thead>\n",
       "    <tr style=\"text-align: right;\">\n",
       "      <th></th>\n",
       "      <th>Cantidad</th>\n",
       "      <th>Precio Unitario</th>\n",
       "      <th>Ingreso</th>\n",
       "    </tr>\n",
       "  </thead>\n",
       "  <tbody>\n",
       "    <tr>\n",
       "      <th>count</th>\n",
       "      <td>1000.000000</td>\n",
       "      <td>1000.000000</td>\n",
       "      <td>1000.000000</td>\n",
       "    </tr>\n",
       "    <tr>\n",
       "      <th>mean</th>\n",
       "      <td>3.086000</td>\n",
       "      <td>54.376020</td>\n",
       "      <td>166.860040</td>\n",
       "    </tr>\n",
       "    <tr>\n",
       "      <th>std</th>\n",
       "      <td>1.390157</td>\n",
       "      <td>26.367452</td>\n",
       "      <td>115.464842</td>\n",
       "    </tr>\n",
       "    <tr>\n",
       "      <th>min</th>\n",
       "      <td>1.000000</td>\n",
       "      <td>10.030000</td>\n",
       "      <td>10.030000</td>\n",
       "    </tr>\n",
       "    <tr>\n",
       "      <th>25%</th>\n",
       "      <td>2.000000</td>\n",
       "      <td>31.165000</td>\n",
       "      <td>70.262500</td>\n",
       "    </tr>\n",
       "    <tr>\n",
       "      <th>50%</th>\n",
       "      <td>3.000000</td>\n",
       "      <td>54.065000</td>\n",
       "      <td>138.830000</td>\n",
       "    </tr>\n",
       "    <tr>\n",
       "      <th>75%</th>\n",
       "      <td>4.000000</td>\n",
       "      <td>77.877500</td>\n",
       "      <td>245.005000</td>\n",
       "    </tr>\n",
       "    <tr>\n",
       "      <th>max</th>\n",
       "      <td>5.000000</td>\n",
       "      <td>100.000000</td>\n",
       "      <td>499.450000</td>\n",
       "    </tr>\n",
       "  </tbody>\n",
       "</table>\n",
       "</div>"
      ],
      "text/plain": [
       "          Cantidad  Precio Unitario      Ingreso\n",
       "count  1000.000000      1000.000000  1000.000000\n",
       "mean      3.086000        54.376020   166.860040\n",
       "std       1.390157        26.367452   115.464842\n",
       "min       1.000000        10.030000    10.030000\n",
       "25%       2.000000        31.165000    70.262500\n",
       "50%       3.000000        54.065000   138.830000\n",
       "75%       4.000000        77.877500   245.005000\n",
       "max       5.000000       100.000000   499.450000"
      ]
     },
     "execution_count": 28,
     "metadata": {},
     "output_type": "execute_result"
    }
   ],
   "source": [
    "# Explicación Fechas\n",
    "\n",
    "ventas.describe()"
   ]
  },
  {
   "cell_type": "code",
   "execution_count": 41,
   "id": "7689e83a",
   "metadata": {},
   "outputs": [
    {
     "data": {
      "text/plain": [
       "Fecha              datetime64[ns]\n",
       "Producto                   object\n",
       "Categoría                  object\n",
       "Cantidad                    int64\n",
       "Precio Unitario           float64\n",
       "Ingreso                   float64\n",
       "Mes                        object\n",
       "dtype: object"
      ]
     },
     "execution_count": 41,
     "metadata": {},
     "output_type": "execute_result"
    }
   ],
   "source": [
    "ventas.dtypes"
   ]
  },
  {
   "cell_type": "code",
   "execution_count": 36,
   "id": "b45af5f2",
   "metadata": {},
   "outputs": [
    {
     "name": "stdout",
     "output_type": "stream",
     "text": [
      "Las ventas totales fueron: Mes\n",
      "Apr    12282.47\n",
      "Aug    13085.64\n",
      "Dec    11362.20\n",
      "Feb    12760.80\n",
      "Jan    14217.70\n",
      "Jul    14259.30\n",
      "Jun    14296.55\n",
      "Mar    14324.95\n",
      "May    12969.45\n",
      "Nov    15394.66\n",
      "Oct    17212.54\n",
      "Sep    14693.78\n",
      "Name: Ingreso, dtype: float64\n"
     ]
    }
   ],
   "source": [
    "# Punto 8\n",
    "\n",
    "ventas[\"Fecha\"] = pd.to_datetime(ventas[\"Fecha\"])\n",
    "\n",
    "ventas[\"Mes\"] = ventas[\"Fecha\"].dt.strftime(\"%b\")\n",
    "\n",
    "ventas_totales_mes = ventas.groupby(\"Mes\")[\"Ingreso\"].sum()\n",
    "\n",
    "print(f\"Las ventas totales fueron: {ventas_totales_mes}\")"
   ]
  },
  {
   "cell_type": "code",
   "execution_count": 38,
   "id": "8d9833aa",
   "metadata": {},
   "outputs": [
    {
     "name": "stdout",
     "output_type": "stream",
     "text": [
      "Las ventas totales fueron por: Mes\n",
      "Jan    14217.70\n",
      "Feb    12760.80\n",
      "Mar    14324.95\n",
      "Apr    12282.47\n",
      "May    12969.45\n",
      "Jun    14296.55\n",
      "Jul    14259.30\n",
      "Aug    13085.64\n",
      "Sep    14693.78\n",
      "Oct    17212.54\n",
      "Nov    15394.66\n",
      "Dec    11362.20\n",
      "Name: Ingreso, dtype: float64\n"
     ]
    }
   ],
   "source": [
    "orden_meses = [\"Jan\", \"Feb\", \"Mar\", \"Apr\", \"May\", \"Jun\", \"Jul\", \"Aug\", \"Sep\", \"Oct\", \"Nov\", \"Dec\"]\n",
    "\n",
    "ventas_totales_mes = ventas_totales_mes.reindex(orden_meses)\n",
    "\n",
    "print(f\"Las ventas totales fueron por: {ventas_totales_mes}\")"
   ]
  },
  {
   "cell_type": "code",
   "execution_count": 39,
   "id": "85e080d5",
   "metadata": {},
   "outputs": [],
   "source": [
    "# Punto 9\n",
    "\n",
    "ventas.to_csv(\"datos/ventas_con_ingresos.csv\")"
   ]
  }
 ],
 "metadata": {
  "kernelspec": {
   "display_name": ".venv",
   "language": "python",
   "name": "python3"
  },
  "language_info": {
   "codemirror_mode": {
    "name": "ipython",
    "version": 3
   },
   "file_extension": ".py",
   "mimetype": "text/x-python",
   "name": "python",
   "nbconvert_exporter": "python",
   "pygments_lexer": "ipython3",
   "version": "3.12.3"
  }
 },
 "nbformat": 4,
 "nbformat_minor": 5
}
