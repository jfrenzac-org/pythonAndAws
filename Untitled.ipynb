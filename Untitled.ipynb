{
 "cells": [
  {
   "cell_type": "code",
   "execution_count": null,
   "id": "3cd3ddfe-7cd7-46b7-90b7-1938a0d2e496",
   "metadata": {},
   "outputs": [],
   "source": [
    "import pandas as pd"
   ]
  },
  {
   "cell_type": "code",
   "execution_count": null,
   "id": "b82359d3-ed61-4341-bd0b-d29d2aa004c8",
   "metadata": {},
   "outputs": [],
   "source": []
  },
  {
   "cell_type": "code",
   "execution_count": 1,
   "id": "f59bf9a3-eaf4-4841-90e2-c42d5ab34b02",
   "metadata": {},
   "outputs": [
    {
     "ename": "NameError",
     "evalue": "name 'pd' is not defined",
     "output_type": "error",
     "traceback": [
      "\u001b[31m---------------------------------------------------------------------------\u001b[39m",
      "\u001b[31mNameError\u001b[39m                                 Traceback (most recent call last)",
      "\u001b[36mCell\u001b[39m\u001b[36m \u001b[39m\u001b[32mIn[1]\u001b[39m\u001b[32m, line 1\u001b[39m\n\u001b[32m----> \u001b[39m\u001b[32m1\u001b[39m ventas = \u001b[43mpd\u001b[49m.read_csv(\u001b[33m\"\u001b[39m\u001b[33mdatos/ventas.csv\u001b[39m\u001b[33m\"\u001b[39m)\n",
      "\u001b[31mNameError\u001b[39m: name 'pd' is not defined"
     ]
    }
   ],
   "source": [
    "ventas = pd.read_csv(\"datos/ventas.csv\")"
   ]
  },
  {
   "cell_type": "markdown",
   "id": "10d50cc7-d26b-46bc-9123-dc98c7a3eccf",
   "metadata": {},
   "source": [
    "#### 🎯 Objetivos del ejercicio:\n",
    "\n",
    "1. **Leer** el archivo CSV en un DataFrame.\n",
    "2. Mostrar las **primeras 5 filas**.\n",
    "3. Obtener el número total de **ventas realizadas** (filas del archivo).\n",
    "4. Calcular el ingreso total por cada venta (Cantidad × Precio Unitario) y agregarlo como una nueva columna llamada `Ingreso`.\n",
    "5. Obtener el **ingreso total de la tienda**.\n",
    "6. Mostrar las **ventas totales por categoría**.\n",
    "7. Encontrar el **producto más vendido** (en términos de cantidad total).\n",
    "8. Mostrar las **ventas mensuales totales** (agrupando por mes).\n",
    "9. Guardar el DataFrame con la nueva columna en un archivo llamado `ventas_con_ingresos.csv`.\n"
   ]
  }
 ],
 "metadata": {
  "kernelspec": {
   "display_name": "Python 3 (ipykernel)",
   "language": "python",
   "name": "python3"
  },
  "language_info": {
   "codemirror_mode": {
    "name": "ipython",
    "version": 3
   },
   "file_extension": ".py",
   "mimetype": "text/x-python",
   "name": "python",
   "nbconvert_exporter": "python",
   "pygments_lexer": "ipython3",
   "version": "3.13.2"
  }
 },
 "nbformat": 4,
 "nbformat_minor": 5
}
